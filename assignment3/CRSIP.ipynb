{
 "cells": [
  {
   "cell_type": "markdown",
   "id": "757db0c9",
   "metadata": {},
   "source": [
    "# CRSIP"
   ]
  },
  {
   "cell_type": "markdown",
   "id": "1caf848f",
   "metadata": {},
   "source": [
    "##### CRSIP-DM stands for Cross-industry standard process for data mining and means \"inter-industry standard process for data mining The\n",
    "#### CRISP process is an open source standard process model that describes the general approaches of data mining professionals This\n",
    "#### method is one of the most widely used analytical models"
   ]
  },
  {
   "cell_type": "markdown",
   "id": "1a8f7dd8",
   "metadata": {},
   "source": []
  },
  {
   "cell_type": "markdown",
   "id": "e69f81f6",
   "metadata": {},
   "source": [
    "# business understanding"
   ]
  },
  {
   "cell_type": "markdown",
   "id": "398942f1",
   "metadata": {},
   "source": [
    "#### A data science professional must know and understand the business on which the data mining project is to be carried out.\n",
    "\n",
    "#### A complete and correct understanding of the business prepares his mind to work on the project and allows\n",
    "\n",
    "#### him to enter the next steps with more and more complete knowledge. In the stage of understanding the business,\n",
    "\n",
    "#### you should check things like different dimensions of that business, limitations, existing conditions, business goals and other\n",
    "\n",
    "#### related factors. An expert at this stage can master the existing business to some extent by increasing his knowledge and\n",
    "\n",
    "#### understanding."
   ]
  },
  {
   "cell_type": "markdown",
   "id": "448c1488",
   "metadata": {},
   "source": [
    "# understand data"
   ]
  },
  {
   "cell_type": "markdown",
   "id": "8029498e",
   "metadata": {},
   "source": [
    "#### Once the business objectives are defined, you need to gather the data you need to execute the data mining project.\n",
    "\n",
    "#### Therefore, to understand the data, the first step involves collecting primary data. An analyst must accurately, clearly and \n",
    "\n",
    "#### transparently collect all the data he needs in the implementation of the project as much as possible. Then, he should describe,\n",
    "\n",
    "#### examine and analyze the collected data in terms of the number of samples and the number of available variables. It is good to\n",
    "\n",
    "#### know that analysts usually deal with four types of variables: nominal discrete, composite discrete, continuous interval, and \n",
    "\n",
    "#### proportional continuous. Identifying the type of variables is important because in most cases the type of variables determines\n",
    "\n",
    "#### the type of analysis to be performed."
   ]
  },
  {
   "cell_type": "markdown",
   "id": "398603c9",
   "metadata": {},
   "source": [
    "# data preparation"
   ]
  },
  {
   "cell_type": "markdown",
   "id": "7f42abee",
   "metadata": {},
   "source": [
    "#### The third step in the Crisp set is the data preparation step. At this stage, you can prepare the data for analysis and modeling. \n",
    "\n",
    "#### Data preparation is one of the most important and time-consuming parts of the data mining process, which includes selecting,\n",
    "\n",
    "#### cleaning, constructing, integrating, and formatting data.\n",
    "\n",
    "#### In this step, the data that are not clean are cleaned and prepared for the next step in a structured way. You can also combine\n",
    "\n",
    "#### different data sets in this section to achieve a more efficient and high-quality data set."
   ]
  },
  {
   "cell_type": "markdown",
   "id": "cb9f5399",
   "metadata": {},
   "source": [
    "# modeling"
   ]
  },
  {
   "cell_type": "markdown",
   "id": "b3a7fb5e",
   "metadata": {},
   "source": [
    "#### In this step, the processed data is used to train the model. Depending on what kind of problem you have, you should use \n",
    "\n",
    "#### modeling techniques and methods that fit your business goals. For example, if your problem is data classification, you should \n",
    "\n",
    "#### use a classification algorithm for learning. Of course, keep in mind that there may be various issues in a data mining project.\n",
    "\n",
    "#### In this case, you will need more complex modeling operations"
   ]
  },
  {
   "cell_type": "markdown",
   "id": "ed9575bc",
   "metadata": {},
   "source": [
    "# Evaluation"
   ]
  },
  {
   "cell_type": "markdown",
   "id": "f7b6dd82",
   "metadata": {},
   "source": [
    "#### After modeling, we must evaluate the model.\n",
    "\n",
    "#### In other words, if you prepared the data in the previous steps and built the desired model,\n",
    "\n",
    "#### now you need to evaluate your model.\n",
    "\n",
    "#### The evaluation method depends on the chosen model. For example, if your problem was classification,\n",
    "\n",
    "#### you should use classification algorithm evaluation methods.\n",
    "\n",
    "#### In general, the evaluation stage includes checking and measuring the results, improving the models,\n",
    "\n",
    "#### re-examining the process and preparing a list of actions. Note that if the quality of your model was low,\n",
    "\n",
    "#### it is better to go back to the previous steps and review and modify the data and their preparation methods, then re-evaluate."
   ]
  },
  {
   "cell_type": "markdown",
   "id": "c659c2c8",
   "metadata": {},
   "source": [
    "# deploy"
   ]
  },
  {
   "cell_type": "markdown",
   "id": "a93d86e4",
   "metadata": {},
   "source": [
    "#### After evaluating the model, you need to set up a plan to use it in the real world. Because if the findings and results of the models \n",
    "\n",
    "#### are not used in the daily activities of the organization, even the best models will fail. In other words, you should produce and\n",
    "\n",
    "#### develop software with the help of software engineers and programmers so that users can use your programs and efforts."
   ]
  },
  {
   "cell_type": "markdown",
   "id": "ae371354",
   "metadata": {},
   "source": [
    "# at the end..."
   ]
  },
  {
   "cell_type": "markdown",
   "id": "df06175b",
   "metadata": {},
   "source": [
    "#### The CRISP process is a standard 6-step model that describes the data science life cycle.\n",
    "\n",
    "#### This standard is like a set of safeguards to help you plan, organize,\n",
    "\n",
    "#### and execute your data science and machine learning project."
   ]
  },
  {
   "cell_type": "markdown",
   "id": "48b37ae7",
   "metadata": {},
   "source": [
    " # good bye(●'◡'●)"
   ]
  },
  {
   "cell_type": "code",
   "execution_count": null,
   "id": "f2146947",
   "metadata": {},
   "outputs": [],
   "source": []
  }
 ],
 "metadata": {
  "kernelspec": {
   "display_name": "Python 3 (ipykernel)",
   "language": "python",
   "name": "python3"
  },
  "language_info": {
   "codemirror_mode": {
    "name": "ipython",
    "version": 3
   },
   "file_extension": ".py",
   "mimetype": "text/x-python",
   "name": "python",
   "nbconvert_exporter": "python",
   "pygments_lexer": "ipython3",
   "version": "3.11.5"
  }
 },
 "nbformat": 4,
 "nbformat_minor": 5
}
