{
 "cells": [
  {
   "cell_type": "markdown",
   "id": "2fe9d1ea",
   "metadata": {},
   "source": [
    "# start"
   ]
  },
  {
   "cell_type": "markdown",
   "id": "28941f69",
   "metadata": {},
   "source": [
    "we want to put an emoji or photo to oder image.\n",
    "for this we can get help from differont libraries and now i want to work with the help of the open cv library."
   ]
  },
  {
   "cell_type": "markdown",
   "id": "71a16e4f",
   "metadata": {},
   "source": [
    "# install the library"
   ]
  },
  {
   "cell_type": "markdown",
   "id": "ce8ec26f",
   "metadata": {},
   "source": [
    "open cv is a profossional library for working with photos and videos. if you have not install this liabrary you can install it with the following command\n",
    "\n",
    "'pip install opencv'"
   ]
  },
  {
   "cell_type": "markdown",
   "id": "5e61461c",
   "metadata": {},
   "source": [
    "# loading image"
   ]
  },
  {
   "cell_type": "markdown",
   "id": "dc2a10b7",
   "metadata": {},
   "source": [
    "now we want to read our refernce phoro in open cv for this we can use the imshow cammand and we do this for emoji too\n",
    "\n",
    "image=cv2.imshow(\"\")\n",
    "\n",
    "emoji=cv2.imshow(\"\")"
   ]
  },
  {
   "cell_type": "markdown",
   "id": "04aaf2c0",
   "metadata": {},
   "source": [
    "# resize image"
   ]
  },
  {
   "cell_type": "markdown",
   "id": "a50009a3",
   "metadata": {},
   "source": [
    "now we need to adjust the size of our reference phoro and the emoji photo.we can use the resize command.\n",
    "\n",
    "image=cv2.resize(image,(450,600))\n",
    "\n",
    "emoji=cv2.resize(emoji(190,320))"
   ]
  },
  {
   "cell_type": "markdown",
   "id": "8b89b92d",
   "metadata": {},
   "source": [
    "# crop your face"
   ]
  },
  {
   "cell_type": "markdown",
   "id": "70a585f1",
   "metadata": {},
   "source": [
    "if you want to use the photo and place a part of the photo on the reference photo we need  to crop that part.first we have to draw a rectangle around the points we want and then cropit.we can use the following command for this.\n",
    "\n",
    "emoji=cv2.rectangle(emoji,(350,170),(190,320),(40,133,57),2\n",
    "\n",
    "now we want to crop around this rectangle wich we do wich the follwing command.\n",
    "\n",
    "emoji=emoji[170:320,190:350]\n",
    "\n",
    "and save the croped ohoto with the command below\n",
    "\n",
    "cv2.imwrite(\"\")"
   ]
  },
  {
   "cell_type": "markdown",
   "id": "d815b8dc",
   "metadata": {},
   "source": [
    "# new photo"
   ]
  },
  {
   "cell_type": "markdown",
   "id": "3627b4c6",
   "metadata": {},
   "source": [
    "now its time to put the croped poto on the refernce photo.for this we want to combine the coordinates of the reference photo \n",
    "with the cropped poto and this way the cropped photo fall on our referencce photo\n",
    "\n",
    "image[170:320,190:350]=emoji\n",
    "\n",
    "and now we display our new photo with the following command.\n",
    "\n",
    "cv2.imwrite((\"\"),image)\n",
    "\n",
    "cv2.imshow('new photo',image)\n",
    "\n",
    "cv2.waitkey(0)\n",
    "\n",
    "cv2.destroyAllwindows()"
   ]
  },
  {
   "cell_type": "code",
   "execution_count": null,
   "id": "745b38e7",
   "metadata": {},
   "outputs": [],
   "source": [
    "name  length   width\n",
    "---------------------\n",
    "smail  450      600  \n",
    "sad    450      600\n",
    "normal 450      600"
   ]
  }
 ],
 "metadata": {
  "kernelspec": {
   "display_name": "Python 3 (ipykernel)",
   "language": "python",
   "name": "python3"
  },
  "language_info": {
   "codemirror_mode": {
    "name": "ipython",
    "version": 3
   },
   "file_extension": ".py",
   "mimetype": "text/x-python",
   "name": "python",
   "nbconvert_exporter": "python",
   "pygments_lexer": "ipython3",
   "version": "3.11.5"
  }
 },
 "nbformat": 4,
 "nbformat_minor": 5
}
