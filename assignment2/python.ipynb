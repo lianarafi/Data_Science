{
 "cells": [
  {
   "cell_type": "markdown",
   "id": "7ab1da83",
   "metadata": {},
   "source": [
    "# python"
   ]
  },
  {
   "cell_type": "markdown",
   "id": "2dd423b0",
   "metadata": {},
   "source": [
    "## we want run some python"
   ]
  },
  {
   "cell_type": "markdown",
   "id": "a49754d3",
   "metadata": {},
   "source": []
  },
  {
   "cell_type": "code",
   "execution_count": null,
   "id": "4a2b7f82",
   "metadata": {},
   "outputs": [],
   "source": [
    "ex1.wite.python code that get number from user and sort them"
   ]
  },
  {
   "cell_type": "code",
   "execution_count": 18,
   "id": "a73a4aa2",
   "metadata": {},
   "outputs": [
    {
     "name": "stdout",
     "output_type": "stream",
     "text": [
      "enter your number100\n",
      "enter your number54\n",
      "enter your number2\n",
      "enter your number88\n",
      "enter your number9\n",
      "[2, 9, 54, 88, 100]\n"
     ]
    }
   ],
   "source": [
    "one=int(input(\"enter your number\"))\n",
    "two=int(input(\"enter your number\"))\n",
    "tree=int(input(\"enter your number\"))\n",
    "four=int(input(\"enter your number\"))\n",
    "five=int(input(\"enter your number\"))\n",
    "o=one//1\n",
    "t=two//1\n",
    "tr=tree//1\n",
    "f=four//1\n",
    "fi=five//1\n",
    "list=[]\n",
    "list.append(o)\n",
    "list.append(t)\n",
    "list.append(tr)\n",
    "list.append(f)\n",
    "list.append(fi)\n",
    "list.sort()\n",
    "print(list)\n"
   ]
  },
  {
   "cell_type": "code",
   "execution_count": null,
   "id": "1ca109bf",
   "metadata": {},
   "outputs": [],
   "source": [
    "ex2.write a python porgamm to file max and min of list of number"
   ]
  },
  {
   "cell_type": "code",
   "execution_count": 25,
   "id": "441fedc8",
   "metadata": {},
   "outputs": [
    {
     "name": "stdout",
     "output_type": "stream",
     "text": [
      "enter your number3\n",
      "enter your number8\n",
      "enter your number55\n",
      "enter your number1\n",
      "enter your number37\n",
      "minimum number 1\n",
      "maximum number: 55\n"
     ]
    }
   ],
   "source": [
    "one=int(input(\"enter your number\"))\n",
    "two=int(input(\"enter your number\"))\n",
    "tree=int(input(\"enter your number\"))\n",
    "four=int(input(\"enter your number\"))\n",
    "five=int(input(\"enter your number\"))\n",
    "o=one//1\n",
    "t=two//1\n",
    "tr=tree//1\n",
    "f=four//1\n",
    "fi=five//1\n",
    "list=[]\n",
    "list.append(o)\n",
    "list.append(t)\n",
    "list.append(tr)\n",
    "list.append(f)\n",
    "list.append(fi)\n",
    "list.sort()\n",
    "print(\"minimum number\",list[0])\n",
    "print(\"maximum number:\",list[4])\n",
    "\n",
    "\n",
    "        \n",
    "            \n",
    "        "
   ]
  },
  {
   "cell_type": "code",
   "execution_count": null,
   "id": "91f7bad4",
   "metadata": {},
   "outputs": [],
   "source": [
    "ex3.write a python program that count number of characters in a string."
   ]
  },
  {
   "cell_type": "code",
   "execution_count": 33,
   "id": "bf50a6e4",
   "metadata": {},
   "outputs": [
    {
     "name": "stdout",
     "output_type": "stream",
     "text": [
      "enter your wordssjhf7byeruohjnfuigfbr\n",
      "21\n"
     ]
    }
   ],
   "source": [
    "words=input(\"enter your words\")\n",
    "count=0\n",
    "for word in words:\n",
    "    count+=len(word)\n",
    "    \n",
    "    \n",
    "print(count)\n",
    "    "
   ]
  },
  {
   "cell_type": "code",
   "execution_count": null,
   "id": "93886d64",
   "metadata": {},
   "outputs": [],
   "source": [
    "ex4.write a python code to find all the pairs in a list whose sum is equal to 10"
   ]
  },
  {
   "cell_type": "code",
   "execution_count": 40,
   "id": "23877cee",
   "metadata": {},
   "outputs": [
    {
     "name": "stdout",
     "output_type": "stream",
     "text": [
      "enter your numbers6 5 4\n"
     ]
    }
   ],
   "source": [
    "numbers=input(\"enter your numbers\")\n",
    "n=[numbers]\n",
    "for i in range(len(n)):\n",
    "    for j in range(i+1,len(n)):\n",
    "        if n[i]+n[j]==10:\n",
    "            print(n[i],n[j])\n",
    "        else:\n",
    "            print(\"nadarim\")\n"
   ]
  },
  {
   "cell_type": "code",
   "execution_count": null,
   "id": "1cb4a261",
   "metadata": {},
   "outputs": [],
   "source": [
    "ex5. Write a Python program to combine two dictionary by adding values for common keys."
   ]
  },
  {
   "cell_type": "code",
   "execution_count": 47,
   "id": "d9c13050",
   "metadata": {},
   "outputs": [
    {
     "name": "stdout",
     "output_type": "stream",
     "text": [
      "enter your numbers for first dict2\n",
      "enter your number for firt dict4\n",
      "enter your number for first dict5\n",
      "enter your number for secend dict6\n",
      "enter your numbers for secend dict3\n",
      "enter your numbers for secend dict2\n",
      "{'a': 8, 'b': 7, 'c': 7}\n"
     ]
    }
   ],
   "source": [
    "a=int(input(\"enter your numbers for first dict\"))\n",
    "b=int(input(\"enter your number for firt dict\"))\n",
    "c=int(input(\"enter your number for first dict\"))\n",
    "d=int(input('enter your number for secend dict'))\n",
    "e=int(input(\"enter your numbers for secend dict\"))\n",
    "f=int(input(\"enter your numbers for secend dict\"))\n",
    "d1=(a+d)           \n",
    "d2=(b+e)\n",
    "d3=(c+f)\n",
    "keys=['a','b','c']\n",
    "values=[d1,d2,d3]\n",
    "dict=dict(zip(keys,values))\n",
    "print(dict)\n",
    "            "
   ]
  },
  {
   "cell_type": "code",
   "execution_count": null,
   "id": "27083164",
   "metadata": {},
   "outputs": [],
   "source": [
    "ex6.write a Python program to compute the sum of all the elements of each tuple stored inside a list of tuples."
   ]
  },
  {
   "cell_type": "code",
   "execution_count": null,
   "id": "982a54da",
   "metadata": {},
   "outputs": [],
   "source": [
    "a=input(\"enter two numbers\")\n",
    "b=input(\"enter your numbers\")\n",
    "c=input(\"enter your numbers\")\n",
    "d=[a,b,c]\n",
    "A=a[0]+a[1]\n",
    "B=b[0]+b[1]\n",
    "C=c[0]+c[1]\n",
    "D=[A,B,C]\n"
   ]
  },
  {
   "cell_type": "code",
   "execution_count": null,
   "id": "6910d130",
   "metadata": {},
   "outputs": [],
   "source": [
    "ex7.given two sets of numbers, write a Python program to find the missing numbers in the second set as compared to the first and vice versa. Use the Python set."
   ]
  },
  {
   "cell_type": "code",
   "execution_count": null,
   "id": "091968f9",
   "metadata": {},
   "outputs": [],
   "source": []
  },
  {
   "cell_type": "code",
   "execution_count": null,
   "id": "4bd89b0a",
   "metadata": {},
   "outputs": [],
   "source": [
    "ex8.Write a Python function to print the even numbers from a given list."
   ]
  },
  {
   "cell_type": "code",
   "execution_count": null,
   "id": "2612c1ae",
   "metadata": {},
   "outputs": [],
   "source": [
    "def find_even_number(lst):\n",
    "    even_number=list(filter(lambdax:x%2==0,lst))\n",
    "    return even_number\n",
    "number=input('enter your numbers')\n",
    "even_number=find_even_number(number)\n",
    "print(even_number)\n",
    "    "
   ]
  },
  {
   "cell_type": "code",
   "execution_count": null,
   "id": "2b0e8aba",
   "metadata": {},
   "outputs": [],
   "source": [
    "ex9.write a function that takes a list of numbers from 1 to n (with one number missing) and returns the missing number"
   ]
  },
  {
   "cell_type": "code",
   "execution_count": null,
   "id": "1ae04740",
   "metadata": {},
   "outputs": [],
   "source": []
  }
 ],
 "metadata": {
  "kernelspec": {
   "display_name": "Python 3 (ipykernel)",
   "language": "python",
   "name": "python3"
  },
  "language_info": {
   "codemirror_mode": {
    "name": "ipython",
    "version": 3
   },
   "file_extension": ".py",
   "mimetype": "text/x-python",
   "name": "python",
   "nbconvert_exporter": "python",
   "pygments_lexer": "ipython3",
   "version": "3.11.5"
  }
 },
 "nbformat": 4,
 "nbformat_minor": 5
}
